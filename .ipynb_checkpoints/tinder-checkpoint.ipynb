{
 "cells": [
  {
   "cell_type": "code",
   "execution_count": 13,
   "id": "e112b37e",
   "metadata": {},
   "outputs": [],
   "source": [
    "import pandas as pd\n",
    "import matplotlib.pyplot as plt\n",
    "from nltk.sentiment.vader import SentimentIntensityAnalyzer\n",
    "from wordcloud import WordCloud, STOPWORDS, ImageColorGenerator\n",
    "import nltk\n",
    "import re\n",
    "from nltk.corpus import stopwords\n",
    "import string\n"
   ]
  },
  {
   "cell_type": "code",
   "execution_count": 15,
   "id": "62bc60eb",
   "metadata": {},
   "outputs": [
    {
     "name": "stdout",
     "output_type": "stream",
     "text": [
      "                               reviewId  \\\n",
      "0  a3e3f92f-c777-4fd4-9dae-5ad012bd7f4a   \n",
      "1  e400ac3d-b7e7-4543-a5e0-529b70b8452b   \n",
      "2  9814d327-d770-4023-a1c5-a0955ec33c90   \n",
      "3  31f7823a-0584-4d84-8b5e-75805d055353   \n",
      "4  864d7f64-9827-4523-9706-f3b5e3b6a2ed   \n",
      "\n",
      "                                   userName  \\\n",
      "0                             Amber Rozenza   \n",
      "1                       Reyna Lisa Esparcia   \n",
      "2  Dharm-astra :The Weapon of Righteousness   \n",
      "3                                 JC Denton   \n",
      "4                              Innoventions   \n",
      "\n",
      "                                           userImage  \\\n",
      "0  https://play-lh.googleusercontent.com/a-/ACNPE...   \n",
      "1  https://play-lh.googleusercontent.com/a/ALm5wu...   \n",
      "2  https://play-lh.googleusercontent.com/a-/ACNPE...   \n",
      "3  https://play-lh.googleusercontent.com/a/ALm5wu...   \n",
      "4  https://play-lh.googleusercontent.com/a-/ACNPE...   \n",
      "\n",
      "                                             content  score  thumbsUpCount  \\\n",
      "0                          Met my boyfriend here👍🏻👑😇      5              0   \n",
      "1                                               Nice      5              0   \n",
      "2  STUPID app.... Banned me for no reason...I am ...      1              0   \n",
      "3  You will get randomly banned by their faulty A...      1              0   \n",
      "4                                               Fair      4              0   \n",
      "\n",
      "  reviewCreatedVersion                   at replyContent repliedAt  \n",
      "0                  NaN  2022-11-11 02:15:09          NaN       NaN  \n",
      "1                  NaN  2022-11-11 02:01:59          NaN       NaN  \n",
      "2              13.20.1  2022-11-11 01:53:16          NaN       NaN  \n",
      "3                  NaN  2022-11-11 01:48:40          NaN       NaN  \n",
      "4              13.20.1  2022-11-11 01:40:06          NaN       NaN  \n"
     ]
    }
   ],
   "source": [
    "data = pd.read_csv(\"tinder_google_play_reviews.csv\")\n",
    "print(data.head())"
   ]
  },
  {
   "cell_type": "code",
   "execution_count": 16,
   "id": "e73c2150",
   "metadata": {},
   "outputs": [],
   "source": [
    "data = data[[\"content\"]]"
   ]
  },
  {
   "cell_type": "code",
   "execution_count": 17,
   "id": "aae73698",
   "metadata": {},
   "outputs": [
    {
     "data": {
      "text/plain": [
       "content    2\n",
       "dtype: int64"
      ]
     },
     "execution_count": 17,
     "metadata": {},
     "output_type": "execute_result"
    }
   ],
   "source": [
    "data.isnull().sum()"
   ]
  },
  {
   "cell_type": "code",
   "execution_count": 18,
   "id": "cec97929",
   "metadata": {},
   "outputs": [],
   "source": [
    "data = data.dropna()"
   ]
  },
  {
   "cell_type": "code",
   "execution_count": null,
   "id": "e489a47b",
   "metadata": {},
   "outputs": [],
   "source": [
    "nltk.download('stopwords')\n",
    "stemmer = nltk.SnowballStemmer(\"english\")\n",
    "stopword=set(stopwords.words('english'))\n",
    "\n",
    "def clean(text):\n",
    "    text = str(text).lower()\n",
    "    text = re.sub('\\[.*?\\]', '', text)\n",
    "    text = re.sub('https?://\\S+|www\\.\\S+', '', text)\n",
    "    text = re.sub('<.*?>+', '', text)\n",
    "    text = re.sub('[%s]' % re.escape(string.punctuation), '', text)\n",
    "    text = re.sub('\\n', '', text)\n",
    "    text = re.sub('\\w*\\d\\w*', '', text)\n",
    "    text = [word for word in text.split(' ') if word not in stopword]\n",
    "    text=\" \".join(text)\n",
    "    text = [stemmer.stem(word) for word in text.split(' ')]\n",
    "    text=\" \".join(text)\n",
    "    return text\n",
    "data[\"content\"] = data[\"content\"].apply(clean)"
   ]
  },
  {
   "cell_type": "code",
   "execution_count": null,
   "id": "441fbc4a",
   "metadata": {},
   "outputs": [],
   "source": [
    "text = \" \".join(i for i in data.content)\n",
    "stopwords = set(STOPWORDS)\n",
    "wordcloud = WordCloud(stopwords=stopwords, background_color=\"white\").generate(text)\n",
    "plt.figure( figsize=(15,10))\n",
    "plt.imshow(wordcloud, interpolation='bilinear')\n",
    "plt.axis(\"off\")\n",
    "plt.show()"
   ]
  }
 ],
 "metadata": {
  "kernelspec": {
   "display_name": "Python 3 (ipykernel)",
   "language": "python",
   "name": "python3"
  },
  "language_info": {
   "codemirror_mode": {
    "name": "ipython",
    "version": 3
   },
   "file_extension": ".py",
   "mimetype": "text/x-python",
   "name": "python",
   "nbconvert_exporter": "python",
   "pygments_lexer": "ipython3",
   "version": "3.9.12"
  }
 },
 "nbformat": 4,
 "nbformat_minor": 5
}
